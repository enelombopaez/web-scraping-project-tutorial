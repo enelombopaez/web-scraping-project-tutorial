{
    "cells": [
        {
            "cell_type": "markdown",
            "metadata": {},
            "source": [
                "# Explore here\n",
                "\n",
                "It's recommended to use this notebook for exploration purposes."
            ]
        },
        {
            "cell_type": "code",
            "execution_count": 5,
            "metadata": {},
            "outputs": [
                {
                    "name": "stdout",
                    "output_type": "stream",
                    "text": [
                        "[<div class=\"tags\">\n",
                        "            Tags:\n",
                        "            <meta class=\"keywords\" content=\"change,deep-thoughts,thinking,world\" itemprop=\"keywords\"/>\n",
                        "<a class=\"tag\" href=\"/tag/change/page/1/\">change</a>\n",
                        "<a class=\"tag\" href=\"/tag/deep-thoughts/page/1/\">deep-thoughts</a>\n",
                        "<a class=\"tag\" href=\"/tag/thinking/page/1/\">thinking</a>\n",
                        "<a class=\"tag\" href=\"/tag/world/page/1/\">world</a>\n",
                        "</div>, <div class=\"tags\">\n",
                        "            Tags:\n",
                        "            <meta class=\"keywords\" content=\"abilities,choices\" itemprop=\"keywords\"/>\n",
                        "<a class=\"tag\" href=\"/tag/abilities/page/1/\">abilities</a>\n",
                        "<a class=\"tag\" href=\"/tag/choices/page/1/\">choices</a>\n",
                        "</div>, <div class=\"tags\">\n",
                        "            Tags:\n",
                        "            <meta class=\"keywords\" content=\"inspirational,life,live,miracle,miracles\" itemprop=\"keywords\"/>\n",
                        "<a class=\"tag\" href=\"/tag/inspirational/page/1/\">inspirational</a>\n",
                        "<a class=\"tag\" href=\"/tag/life/page/1/\">life</a>\n",
                        "<a class=\"tag\" href=\"/tag/live/page/1/\">live</a>\n",
                        "<a class=\"tag\" href=\"/tag/miracle/page/1/\">miracle</a>\n",
                        "<a class=\"tag\" href=\"/tag/miracles/page/1/\">miracles</a>\n",
                        "</div>, <div class=\"tags\">\n",
                        "            Tags:\n",
                        "            <meta class=\"keywords\" content=\"aliteracy,books,classic,humor\" itemprop=\"keywords\"/>\n",
                        "<a class=\"tag\" href=\"/tag/aliteracy/page/1/\">aliteracy</a>\n",
                        "<a class=\"tag\" href=\"/tag/books/page/1/\">books</a>\n",
                        "<a class=\"tag\" href=\"/tag/classic/page/1/\">classic</a>\n",
                        "<a class=\"tag\" href=\"/tag/humor/page/1/\">humor</a>\n",
                        "</div>, <div class=\"tags\">\n",
                        "            Tags:\n",
                        "            <meta class=\"keywords\" content=\"be-yourself,inspirational\" itemprop=\"keywords\"/>\n",
                        "<a class=\"tag\" href=\"/tag/be-yourself/page/1/\">be-yourself</a>\n",
                        "<a class=\"tag\" href=\"/tag/inspirational/page/1/\">inspirational</a>\n",
                        "</div>, <div class=\"tags\">\n",
                        "            Tags:\n",
                        "            <meta class=\"keywords\" content=\"adulthood,success,value\" itemprop=\"keywords\"/>\n",
                        "<a class=\"tag\" href=\"/tag/adulthood/page/1/\">adulthood</a>\n",
                        "<a class=\"tag\" href=\"/tag/success/page/1/\">success</a>\n",
                        "<a class=\"tag\" href=\"/tag/value/page/1/\">value</a>\n",
                        "</div>, <div class=\"tags\">\n",
                        "            Tags:\n",
                        "            <meta class=\"keywords\" content=\"life,love\" itemprop=\"keywords\"/>\n",
                        "<a class=\"tag\" href=\"/tag/life/page/1/\">life</a>\n",
                        "<a class=\"tag\" href=\"/tag/love/page/1/\">love</a>\n",
                        "</div>, <div class=\"tags\">\n",
                        "            Tags:\n",
                        "            <meta class=\"keywords\" content=\"edison,failure,inspirational,paraphrased\" itemprop=\"keywords\"/>\n",
                        "<a class=\"tag\" href=\"/tag/edison/page/1/\">edison</a>\n",
                        "<a class=\"tag\" href=\"/tag/failure/page/1/\">failure</a>\n",
                        "<a class=\"tag\" href=\"/tag/inspirational/page/1/\">inspirational</a>\n",
                        "<a class=\"tag\" href=\"/tag/paraphrased/page/1/\">paraphrased</a>\n",
                        "</div>, <div class=\"tags\">\n",
                        "            Tags:\n",
                        "            <meta class=\"keywords\" content=\"misattributed-eleanor-roosevelt\" itemprop=\"keywords\"/>\n",
                        "<a class=\"tag\" href=\"/tag/misattributed-eleanor-roosevelt/page/1/\">misattributed-eleanor-roosevelt</a>\n",
                        "</div>, <div class=\"tags\">\n",
                        "            Tags:\n",
                        "            <meta class=\"keywords\" content=\"humor,obvious,simile\" itemprop=\"keywords\"/>\n",
                        "<a class=\"tag\" href=\"/tag/humor/page/1/\">humor</a>\n",
                        "<a class=\"tag\" href=\"/tag/obvious/page/1/\">obvious</a>\n",
                        "<a class=\"tag\" href=\"/tag/simile/page/1/\">simile</a>\n",
                        "</div>]\n"
                    ]
                }
            ],
            "source": [
                "from bs4 import BeautifulSoup\n",
                "import requests \n",
                "\n",
                "URL = \"https://quotes.toscrape.com\"\n",
                "\n",
                "page_html = requests.get(URL).text\n",
                "\n",
                "soup = BeautifulSoup(page_html)\n",
                "\n",
                "\n",
                "#mydivs = soup.find_all(\"div\", {\"class\": \"tags\"})\n",
                "#print(mydivs)\n",
                "\n",
                "tag_list = []\n",
                "for tag_div in soup.find_all(\"div\", class=\"tags\"):\n",
                "    for tag_a in tag_div.f\n"
            ]
        }
    ],
    "metadata": {
        "kernelspec": {
            "display_name": "Python 3.8.13 64-bit ('3.8.13')",
            "language": "python",
            "name": "python3"
        },
        "language_info": {
            "codemirror_mode": {
                "name": "ipython",
                "version": 3
            },
            "file_extension": ".py",
            "mimetype": "text/x-python",
            "name": "python",
            "nbconvert_exporter": "python",
            "pygments_lexer": "ipython3",
            "version": "3.11.4"
        },
        "orig_nbformat": 4,
        "vscode": {
            "interpreter": {
                "hash": "110cc1dee26208153f2972f08a2ad52b6a56238dc66d48e87fb757ef2996db56"
            }
        }
    },
    "nbformat": 4,
    "nbformat_minor": 2
}
